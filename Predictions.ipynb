{
 "cells": [
  {
   "cell_type": "code",
   "execution_count": 3,
   "metadata": {
    "collapsed": true
   },
   "outputs": [],
   "source": [
    "# Imports\n",
    "import mailbox\n",
    "import csv\n",
    "from bs4 import BeautifulSoup as bs\n",
    "from bs4 import Comment\n",
    "import re\n",
    "import pandas as pd\n",
    "import numpy as np\n",
    "import time\n",
    "import nltk\n",
    "from nltk.corpus import stopwords\n",
    "from nltk.tokenize import word_tokenize\n",
    "import seaborn as sns\n",
    "import matplotlib.pyplot as plt\n",
    "%matplotlib inline\n",
    "\n",
    "# for cross validation\n",
    "from sklearn.model_selection import KFold\n",
    "from sklearn.model_selection import cross_val_score\n",
    "from sklearn.pipeline import make_pipeline\n",
    "from sklearn.preprocessing import MinMaxScaler\n",
    "from sklearn.model_selection import GridSearchCV\n",
    "from sklearn.metrics import accuracy_score\n",
    "from sklearn.decomposition import PCA\n",
    "\n",
    "# to make prior\n",
    "from sklearn.feature_extraction.text import TfidfVectorizer\n",
    "from sklearn.feature_extraction import DictVectorizer\n",
    "\n",
    "# to run models\n",
    "from sklearn.model_selection import train_test_split\n",
    "from sklearn.naive_bayes import MultinomialNB, GaussianNB, BernoulliNB\n",
    "from sklearn.svm import SVC, NuSVC, LinearSVC\n",
    "from sklearn.ensemble import RandomForestClassifier\n",
    "\n",
    "# performance metrics\n",
    "from sklearn.metrics import confusion_matrix \n",
    "from sklearn.metrics import roc_auc_score"
   ]
  },
  {
   "cell_type": "code",
   "execution_count": 4,
   "metadata": {
    "collapsed": true
   },
   "outputs": [],
   "source": [
    "# parsing emails into a csv file, uses cleanMe() to remove unwanted data\n",
    "\n",
    "\n",
    "def createCSV(name, mbox, mes_type):\n",
    "    #createing SPAM csv\n",
    "    writer = csv.writer(open(name, \"w\", encoding=\"utf-8\"))\n",
    "    writer.writerow(['Subject', 'From', 'Date', 'Message-ID', 'Payload', 'Type'])\n",
    "    for message in mailbox.mbox(mbox):\n",
    "\n",
    "        if message.is_multipart():\n",
    "            content = ''.join(str(part.get_payload(decode=True)) for part in message.get_payload())\n",
    "            content = cleanMe(content)\n",
    "        else:\n",
    "            content = str(message.get_payload(decode=True))\n",
    "            content = cleanMe(content)\n",
    "        content = content.split()\n",
    "        print(content)\n",
    "        writer.writerow([message['subject'], message['from'], message['date'], message['Message-Id'], content, mes_type])\n",
    "    "
   ]
  },
  {
   "cell_type": "code",
   "execution_count": 5,
   "metadata": {
    "collapsed": true
   },
   "outputs": [],
   "source": [
    "# Cleaning emails, removing stop words\n",
    "## getting stop words\n",
    "stop_words = set(stopwords.words('english'))\n",
    "\n",
    "## cleanMe: cleans body of email, removing javascript, css, blanklines, escape characters, links\n",
    "## and stop words. Also changes everything to lowercase\n",
    "\n",
    "def cleanMe(html):\n",
    "    soup = bs(html,\"lxml\") # create a new bs4 object from the html data loaded\n",
    "    for script in soup([\"script\", \"style\"]): # remove all javascript and stylesheet code\n",
    "        script.extract()\n",
    "    # get text\n",
    "    text = soup.get_text()\n",
    "    # break into lines and remove leading and trailing space on each\n",
    "    lines = (line.strip() for line in text.splitlines())\n",
    "    # break multi-headlines into a line each\n",
    "    chunks = (phrase.strip() for line in lines for phrase in line.split(\"  \"))\n",
    "    # drop blank lines\n",
    "    text = '\\n '.join(chunk for chunk in chunks if chunk)\n",
    "    text = text.replace('\\\\n', ' ').replace('\\\\t', ' ').replace(\"\\n\", ' ').replace('\\\\b', ' ')\n",
    "    # gets rid of escape characters\n",
    "    text = bytes(text, \"utf-8\").decode(\"unicode_escape\")\n",
    "    # gets rid of links \n",
    "    text = re.sub(r'\\w+:\\/{2}[\\d\\w-]+(\\.[\\d\\w-]+)*(?:(?:\\/[^\\s/]*))*', '', text)\n",
    "    text = \" \".join(re.findall(r'\\s+[a-zA-Z]+\\s+', text))\n",
    "    # make text lower case\n",
    "    text = text.lower()\n",
    "    text = re.sub(r'\\s+', ' ', text)\n",
    "    # remove stop words before csv was written\n",
    "    text = word_tokenize(text)\n",
    "    resultwords  = [word for word in text if word not in stop_words]\n",
    "    result = ' '.join(resultwords)\n",
    "    return result\n"
   ]
  },
  {
   "cell_type": "code",
   "execution_count": 6,
   "metadata": {
    "collapsed": true
   },
   "outputs": [],
   "source": [
    "# Writes CSV calling createCSV\n",
    "#createCSV('./data/spam_t1.csv', './data/Spam.mbox', 'Spam')\n",
    "#createCSV('./data/inbox_t1.csv', './data/Inbox.mbox', 'Ham')"
   ]
  },
  {
   "cell_type": "code",
   "execution_count": 7,
   "metadata": {},
   "outputs": [
    {
     "name": "stdout",
     "output_type": "stream",
     "text": [
      "spam shape:  (707, 6)\n",
      "ham shape:  (51112, 6)\n",
      "ham new shape:  (10000, 6)\n"
     ]
    }
   ],
   "source": [
    "# importing CSV into dataframe\n",
    "spam = pd.read_csv(\"./data/spam_t1.csv\")\n",
    "ham = pd.read_csv(\"./data/inbox_t1.csv\")\n",
    "print('spam shape: ', spam.shape)\n",
    "print('ham shape: ', ham.shape)\n",
    "\n",
    "# ham has two years worth of emails, index starting from today and \n",
    "# ending way back to 2016. Trimming dataset to be more managable\n",
    "ham = ham[0 : 10000]\n",
    "print('ham new shape: ', ham.shape)\n",
    "ham_spam = pd.concat([ham, spam])\n"
   ]
  },
  {
   "cell_type": "code",
   "execution_count": 8,
   "metadata": {
    "collapsed": true
   },
   "outputs": [],
   "source": [
    "# getPrior takes data and result and returns the probablity of a single word \n",
    "# in the labeled email (hame or spam): columns are words, rows are emails\n",
    "vec = TfidfVectorizer()\n",
    "def getPrior(data, result):\n",
    "    X = vec.fit_transform(data)\n",
    "    prior = pd.DataFrame(X.toarray(), columns=vec.get_feature_names())\n",
    "    prior['RESULT'] = result\n",
    "    return prior"
   ]
  },
  {
   "cell_type": "code",
   "execution_count": 9,
   "metadata": {
    "collapsed": true
   },
   "outputs": [],
   "source": [
    "# 0 == ham, 1 == spam\n",
    "spam_prior = getPrior(spam.Payload, 1)\n",
    "ham_prior = getPrior(ham.Payload, 0)\n",
    "\n",
    "# concat ham and spam prior to make prior feature set\n",
    "# replace NaN with zero because it means that spam did not have that word, or spam did not have that word\n",
    "frames = [spam_prior, ham_prior]\n",
    "prior = pd.concat(frames).fillna(0)"
   ]
  },
  {
   "cell_type": "code",
   "execution_count": 10,
   "metadata": {
    "collapsed": true
   },
   "outputs": [],
   "source": [
    "# split target and data\n",
    "target = prior.RESULT\n",
    "data = prior.drop([\"RESULT\"], axis = 1)\n",
    "\n",
    "# spliting train and test data\n",
    "X_train, X_test, y_train, y_test = train_test_split(data, target, random_state = 12345, test_size=0.33)\n"
   ]
  },
  {
   "cell_type": "code",
   "execution_count": 11,
   "metadata": {},
   "outputs": [
    {
     "name": "stdout",
     "output_type": "stream",
     "text": [
      "Confusion Matrix for  MultinomialNB :\n",
      " [[3302    2]\n",
      " [ 229    1]]\n",
      "Confusion Matrix for  LinearSVC :\n",
      " [[3302    2]\n",
      " [  74  156]]\n",
      "Confusion Matrix for  RandomForest :\n",
      " [[3303    1]\n",
      " [  76  154]]\n",
      "Confusion Matrix for  GaussianNB :\n",
      " [[3164  140]\n",
      " [  60  170]]\n",
      "Confusion Matrix for  BernoulliNB :\n",
      " [[3211   93]\n",
      " [ 191   39]]\n"
     ]
    }
   ],
   "source": [
    "# running Multinomial Naive Bayse, Random Forest, Linear SVC\n",
    "# without cross validation\n",
    "\n",
    "model_1_name = \"MultinomialNB\"\n",
    "model_2_name = \"LinearSVC\"\n",
    "model_3_name = \"RandomForest\"\n",
    "model_4_name = \"GaussianNB\"\n",
    "model_5_name = \"BernoulliNB\"\n",
    "\n",
    "model1 = MultinomialNB()\n",
    "model2 = LinearSVC()\n",
    "model3 = RandomForestClassifier()\n",
    "model4 = GaussianNB()\n",
    "model5 = BernoulliNB()\n",
    "\n",
    "model1.fit(X_train, y_train)\n",
    "model2.fit(X_train, y_train)\n",
    "# for extra credit :)\n",
    "model3.fit(X_train, y_train)\n",
    "model4.fit(X_train, y_train)\n",
    "model5.fit(X_train, y_train)\n",
    "\n",
    "result1 = model1.predict(X_test)\n",
    "result2 = model2.predict(X_test)\n",
    "result3 = model3.predict(X_test)\n",
    "result4 = model4.predict(X_test)\n",
    "result5 = model5.predict(X_test)\n",
    "\n",
    "# cheking results without cross validation\n",
    "\n",
    "print(\"Confusion Matrix for \", model_1_name,\":\\n\", confusion_matrix(y_test, result1))\n",
    "print(\"Confusion Matrix for \", model_2_name,\":\\n\", confusion_matrix(y_test, result2))\n",
    "print(\"Confusion Matrix for \", model_3_name,\":\\n\", confusion_matrix(y_test, result3))\n",
    "print(\"Confusion Matrix for \", model_4_name,\":\\n\", confusion_matrix(y_test, result4))\n",
    "print(\"Confusion Matrix for \", model_5_name,\":\\n\", confusion_matrix(y_test, result5))\n",
    "\n"
   ]
  },
  {
   "cell_type": "code",
   "execution_count": 12,
   "metadata": {
    "collapsed": true
   },
   "outputs": [],
   "source": [
    "# creating parameters for pipeline for cross validation: \n",
    "# multinomial Naive Bayse\n",
    "pg_1 = {'multinomialnb__alpha': np.arange(.5,1.5),\n",
    "        'multinomialnb__fit_prior': [True, False]}\n",
    "\n",
    "# LinearSVC Classifier\n",
    "pg_2 = {'linearsvc__dual': [True, False],\n",
    "        'linearsvc__fit_intercept': [True, False]}\n",
    "\n",
    "# Random Forest\n",
    "pg_3 = {'randomforestclassifier__n_estimators': np.arange(1,30)}\n",
    "\n",
    "# GaussianNB does not need additional parameters!\n",
    "pg_4 = {}\n",
    "\n",
    "pg_5 = {'bernoullinb__alpha': np.arange(.5,1.5),\n",
    "        'bernoullinb__fit_prior': [True, False]}\n"
   ]
  },
  {
   "cell_type": "code",
   "execution_count": 14,
   "metadata": {
    "collapsed": true
   },
   "outputs": [],
   "source": [
    "# pipline using cross validation GridSearchCV to find best parameters \n",
    "\"\"\"\n",
    "\n",
    "\"\"\"\n",
    "def run_model(model, param_grid, xtrain, ytrain, name, do_pca = False):\n",
    "    scaler = MinMaxScaler()\n",
    "    if(do_pca == True):\n",
    "        pca = PCA(n_components = 10)\n",
    "        pipe = make_pipeline(pca, model)\n",
    "    else:\n",
    "        pipe = make_pipeline(model)\n",
    "    grid = GridSearchCV(pipe,param_grid, cv=10)\n",
    "    grid.fit(xtrain, ytrain)\n",
    "    accuracy = grid.score(xtrain, ytrain)\n",
    "    print(f\"In-sample accuracy: {accuracy:0.2%}\", name)\n",
    "    return(grid)\n",
    "\n"
   ]
  },
  {
   "cell_type": "code",
   "execution_count": 17,
   "metadata": {},
   "outputs": [
    {
     "name": "stdout",
     "output_type": "stream",
     "text": [
      "In-sample accuracy: 95.97% MultinomialNB\n",
      "In-sample accuracy: 98.98% LinearSVC\n",
      "In-sample accuracy: 99.16% RandomForest\n",
      "In-sample accuracy: 96.29% GaussianNB\n",
      "In-sample accuracy: 94.84% BernoulliNB\n"
     ]
    }
   ],
   "source": [
    "model1_grid = MultinomialNB()\n",
    "model2_grid = LinearSVC()\n",
    "model3_grid = RandomForestClassifier()\n",
    "model4_grid = GaussianNB()\n",
    "model5_grid = BernoulliNB()\n",
    "\n",
    "grid1 = run_model(model1_grid, pg_1, X_train, y_train, model_1_name)\n",
    "grid2 = run_model(model2_grid, pg_2, X_train, y_train, model_2_name)\n",
    "grid3 = run_model(model3_grid, pg_3, X_train, y_train, model_3_name)\n",
    "grid4 = run_model(model4_grid, pg_4, X_train, y_train, model_4_name)\n",
    "grid5 = run_model(model5_grid, pg_5, X_train, y_train, model_5_name)"
   ]
  },
  {
   "cell_type": "code",
   "execution_count": 75,
   "metadata": {},
   "outputs": [
    {
     "data": {
      "text/plain": [
       "{'bernoullinb__alpha': 0.5, 'bernoullinb__fit_prior': True}"
      ]
     },
     "execution_count": 75,
     "metadata": {},
     "output_type": "execute_result"
    }
   ],
   "source": [
    "grid5.best_params_"
   ]
  },
  {
   "cell_type": "code",
   "execution_count": 18,
   "metadata": {},
   "outputs": [
    {
     "name": "stdout",
     "output_type": "stream",
     "text": [
      "[[3281   23]\n",
      " [ 127  103]]\n",
      "[[3301    3]\n",
      " [  70  160]]\n",
      "[[3304    0]\n",
      " [  77  153]]\n",
      "[[3164  140]\n",
      " [  60  170]]\n",
      "[[3180  124]\n",
      " [ 117  113]]\n"
     ]
    }
   ],
   "source": [
    "# pipeline REALLY helps naive Bayes, however, I think it is overfitting \n",
    "# in LinearSVC and Random Forest\n",
    "preds1 = grid1.predict(X_test)\n",
    "preds2 = grid2.predict(X_test)\n",
    "preds3 = grid3.predict(X_test)\n",
    "preds4 = grid4.predict(X_test)\n",
    "preds5 = grid5.predict(X_test)\n",
    "matrix1 = confusion_matrix(y_test, preds1)\n",
    "print(matrix1)\n",
    "matrix2 = confusion_matrix(y_test, preds2)\n",
    "print(matrix2)\n",
    "matrix3 = confusion_matrix(y_test, preds3)\n",
    "print(matrix3)\n",
    "matrix4 = confusion_matrix(y_test, preds4)\n",
    "print(matrix4)\n",
    "matrix5 = confusion_matrix(y_test, preds5)\n",
    "print(matrix5)"
   ]
  },
  {
   "cell_type": "code",
   "execution_count": 19,
   "metadata": {},
   "outputs": [
    {
     "name": "stdout",
     "output_type": "stream",
     "text": [
      "[[3303    1]\n",
      " [  76  154]]\n"
     ]
    }
   ],
   "source": [
    "import math\n",
    "import numpy as np\n",
    "agg_preds_mat = np.array([preds2, preds3, preds4])\n",
    "agg_preds = map(sum, zip(*agg_preds_mat))\n",
    "agg_preds_final = [math.floor(pred / 2) for pred in agg_preds]\n",
    "matrix6 = confusion_matrix(y_test, agg_preds_final)\n",
    "print(matrix6)"
   ]
  },
  {
   "cell_type": "code",
   "execution_count": 20,
   "metadata": {},
   "outputs": [
    {
     "data": {
      "image/png": "[encoded data removed]",
      "text/plain": [
       "<matplotlib.figure.Figure at 0x10d33ea58>"
      ]
     },
     "metadata": {},
     "output_type": "display_data"
    }
   ],
   "source": [
    "# using confusion matrix for accuracy metrics \n",
    "from sklearn.metrics import confusion_matrix\n",
    "\n",
    "sns.heatmap(matrix1.T, square=True, annot=True, fmt='d', cbar=False)\n",
    "plt.xlabel('true label')\n",
    "plt.ylabel('predicted label')\n",
    "plt.title(model_1_name)\n",
    "plt.show()"
   ]
  },
  {
   "cell_type": "code",
   "execution_count": 21,
   "metadata": {},
   "outputs": [
    {
     "data": {
      "image/png": "[encoded data removed]",
      "text/plain": [
       "<matplotlib.figure.Figure at 0x1a1239a2b0>"
      ]
     },
     "metadata": {},
     "output_type": "display_data"
    }
   ],
   "source": [
    "sns.heatmap(matrix2.T, square=True, annot=True, fmt='d', cbar=False)\n",
    "plt.xlabel('true label')\n",
    "plt.ylabel('predicted label')\n",
    "plt.title(model_2_name)\n",
    "plt.show()"
   ]
  },
  {
   "cell_type": "code",
   "execution_count": 22,
   "metadata": {},
   "outputs": [
    {
     "data": {
      "image/png": "[encoded data removed]",
      "text/plain": [
       "<matplotlib.figure.Figure at 0x1a1236f320>"
      ]
     },
     "metadata": {},
     "output_type": "display_data"
    }
   ],
   "source": [
    "sns.heatmap(matrix3.T, square=True, annot=True, fmt='d', cbar=False)\n",
    "plt.xlabel('true label')\n",
    "plt.ylabel('predicted label')\n",
    "plt.title(model_3_name)\n",
    "plt.show()"
   ]
  },
  {
   "cell_type": "code",
   "execution_count": 23,
   "metadata": {},
   "outputs": [
    {
     "data": {
      "image/png": "[encoded data removed]",
      "text/plain": [
       "<matplotlib.figure.Figure at 0x1a1228fb70>"
      ]
     },
     "metadata": {},
     "output_type": "display_data"
    }
   ],
   "source": [
    "sns.heatmap(matrix4.T, square=True, annot=True, fmt='d', cbar=False)\n",
    "plt.xlabel('true label')\n",
    "plt.ylabel('predicted label')\n",
    "plt.title(model_4_name)\n",
    "plt.show()"
   ]
  },
  {
   "cell_type": "code",
   "execution_count": 24,
   "metadata": {},
   "outputs": [
    {
     "data": {
      "image/png": "[encoded data removed]",
      "text/plain": [
       "<matplotlib.figure.Figure at 0x1a1296a4a8>"
      ]
     },
     "metadata": {},
     "output_type": "display_data"
    }
   ],
   "source": [
    "sns.heatmap(matrix5.T, square=True, annot=True, fmt='d', cbar=False)\n",
    "plt.xlabel('true label')\n",
    "plt.ylabel('predicted label')\n",
    "plt.title(model_5_name)\n",
    "plt.show()"
   ]
  },
  {
   "cell_type": "code",
   "execution_count": 25,
   "metadata": {},
   "outputs": [
    {
     "data": {
      "image/png": "[encoded data removed]",
      "text/plain": [
       "<matplotlib.figure.Figure at 0x1a92093978>"
      ]
     },
     "metadata": {},
     "output_type": "display_data"
    }
   ],
   "source": [
    "sns.heatmap(matrix6.T, square=True, annot=True, fmt='d', cbar=False)\n",
    "plt.xlabel('true label')\n",
    "plt.ylabel('predicted label')\n",
    "plt.title(\"Aggregated Ensemble: GaussianNB, RandomForest, LinearSVC\")\n",
    "plt.show()"
   ]
  },
  {
   "cell_type": "code",
   "execution_count": 26,
   "metadata": {},
   "outputs": [
    {
     "name": "stdout",
     "output_type": "stream",
     "text": [
      "ROC AUC score for MultinomialNB :\n",
      "\t 0.720432413938\n",
      "ROC AUC score for LinearSVC :\n",
      "\t 0.847372091799\n",
      "ROC AUC score for RandomForest :\n",
      "\t 0.832608695652\n",
      "ROC AUC score for GaussianNB :\n",
      "\t 0.848378776713\n",
      "ROC AUC score for BernoulliNB :\n",
      "\t 0.726887040741\n",
      "ROC AUC score for Aggregated :\n",
      "\t 0.834631276977\n",
      "without gridsearchCV -- ROC AUC score for MultinomialNB :\n",
      "\t 0.501871249605\n",
      "without gridsearchCV -- ROC AUC score for LinearSVC :\n",
      "\t 0.838827771344\n",
      "without gridsearchCV -- ROC AUC score for RandomForest :\n",
      "\t 0.834631276977\n",
      "without gridsearchCV -- ROC AUC score for GaussianNB :\n",
      "\t 0.848378776713\n",
      "without gridsearchCV -- ROC AUC score for BernoulliNB :\n",
      "\t 0.570708758817\n"
     ]
    }
   ],
   "source": [
    "# ROC AUC \n",
    "score1 = roc_auc_score(y_test, preds1)\n",
    "print(\"ROC AUC score for\", model_1_name,\":\\n\\t\",score1)\n",
    "score2 = roc_auc_score(y_test, preds2)\n",
    "print(\"ROC AUC score for\", model_2_name,\":\\n\\t\",score2)\n",
    "score3 = roc_auc_score(y_test, preds3)\n",
    "print(\"ROC AUC score for\", model_3_name,\":\\n\\t\",score3)\n",
    "score4 = roc_auc_score(y_test, preds4)\n",
    "print(\"ROC AUC score for\", model_4_name,\":\\n\\t\",score4)\n",
    "score5 = roc_auc_score(y_test, preds5)\n",
    "print(\"ROC AUC score for\", model_5_name,\":\\n\\t\",score5)\n",
    "score_agg = roc_auc_score(y_test, agg_preds_final)\n",
    "print(\"ROC AUC score for\", \"Aggregated\",\":\\n\\t\",score_agg)\n",
    "\n",
    "score1_without_cv = roc_auc_score(y_test, result1)\n",
    "print(\"without gridsearchCV -- ROC AUC score for\", model_1_name,\":\\n\\t\",score1_without_cv)\n",
    "score2_without_cv = roc_auc_score(y_test, result2)\n",
    "print(\"without gridsearchCV -- ROC AUC score for\", model_2_name,\":\\n\\t\",score2_without_cv)\n",
    "score3_without_cv = roc_auc_score(y_test, result3)\n",
    "print(\"without gridsearchCV -- ROC AUC score for\", model_3_name,\":\\n\\t\",score3_without_cv)\n",
    "score4_without_cv = roc_auc_score(y_test, result4)\n",
    "print(\"without gridsearchCV -- ROC AUC score for\", model_4_name,\":\\n\\t\",score4_without_cv)\n",
    "score5_without_cv = roc_auc_score(y_test, result5)\n",
    "print(\"without gridsearchCV -- ROC AUC score for\", model_5_name,\":\\n\\t\",score5_without_cv)\n"
   ]
  },
  {
   "cell_type": "code",
   "execution_count": null,
   "metadata": {
    "collapsed": true
   },
   "outputs": [],
   "source": []
  },
  {
   "cell_type": "code",
   "execution_count": null,
   "metadata": {
    "collapsed": true
   },
   "outputs": [],
   "source": []
  }
 ],
 "metadata": {
  "kernelspec": {
   "display_name": "Python 3",
   "language": "python",
   "name": "python3"
  },
  "language_info": {
   "codemirror_mode": {
    "name": "ipython",
    "version": 3
   },
   "file_extension": ".py",
   "mimetype": "text/x-python",
   "name": "python",
   "nbconvert_exporter": "python",
   "pygments_lexer": "ipython3",
   "version": "3.6.3"
  }
 },
 "nbformat": 4,
 "nbformat_minor": 2
}
